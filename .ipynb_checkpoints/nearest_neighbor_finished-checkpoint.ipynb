{
 "cells": [
  {
   "cell_type": "code",
   "execution_count": 1,
   "id": "05d4b520-2752-44f6-b656-296bfe432d62",
   "metadata": {},
   "outputs": [],
   "source": [
    "#implementing a greedy algorithm to solve the Traveling Salesperson Problem\n",
    "#Find the shortest possible route that visits every city exactly once and returns to the starting point. "
   ]
  },
  {
   "cell_type": "code",
   "execution_count": 6,
   "id": "7ce0a7a6-5976-422a-ac76-8a369436db82",
   "metadata": {},
   "outputs": [
    {
     "data": {
      "text/plain": [
       "'random_graphs(x, y):\\n    for x in range(1,100):\\n        x_points = []\\n        x_value = random.randint(1,1000)\\n        x_points.append(x_value)\\n        for y in range(1,100):\\n            y_points = []\\n            y_value = random.randint(1,1000)\\n            y_points.append(y_value)\\n    return x_points, y_points'"
      ]
     },
     "execution_count": 6,
     "metadata": {},
     "output_type": "execute_result"
    }
   ],
   "source": [
    "#create a method that generates random x and y points in a list or an array \n",
    "# (list of tuples)\n",
    "\n",
    "# given a graph G = (V, E)\n",
    "\n",
    "'''random_graphs(x, y):\n",
    "    for x in range(1,100):\n",
    "        x_points = []\n",
    "        x_value = random.randint(1,1000)\n",
    "        x_points.append(x_value)\n",
    "        for y in range(1,100):\n",
    "            y_points = []\n",
    "            y_value = random.randint(1,1000)\n",
    "            y_points.append(y_value)\n",
    "    return x_points, y_points'''"
   ]
  },
  {
   "cell_type": "code",
   "execution_count": 38,
   "id": "a9be06a3-20e7-4665-be54-4b3f729d5374",
   "metadata": {},
   "outputs": [],
   "source": [
    "import math\n",
    "\n",
    "#vertices?? do these tuples automatically make it a vertex?? is it wrong?! ahghghgh\n",
    "\n",
    "def euclidean_distance(point1, point2):\n",
    "    x1, y1 = point1\n",
    "    x2, y2 = point2\n",
    "    return math.sqrt((x2 - x1)**2 + (y2 - y1)**2)\n",
    "\n",
    "#starts at a city, and then always picks the closest neighbor \n",
    "#passing in a city to start with, and a graph of tuples (x,y)\n",
    "def nearest_neighbor_algorithm(starting_city, all_cities):\n",
    "    #starting with the first city, which will always be visited and part of the tour.\n",
    "    current_city = starting_city\n",
    "    visited_cities = []\n",
    "    visited_cities.append(starting_city)\n",
    "    tour_list = []\n",
    "    tour_list.append(starting_city)\n",
    "    \n",
    "    #all of the cities besides starting city\n",
    "    unvisited = []\n",
    "    for city in all_cities:\n",
    "        if city != starting_city:\n",
    "            unvisited.append(city)\n",
    "            \n",
    "    \n",
    "    #while there are still \"cities\" unvisited...\n",
    "    while len(visited_cities) < len(all_cities):\n",
    "        nearest_neighbor = None\n",
    "        nearest_distance = float('inf')\n",
    "        #find a neighbor in a graph that's the smallest distance away\n",
    "\n",
    "        for neighbor in unvisited:\n",
    "            if neighbor not in visited_cities:\n",
    "                distance = euclidean_distance(current_city, neighbor)\n",
    "                if distance < nearest_distance:\n",
    "                    nearest_neighbor = neighbor #current neighbor???\n",
    "                    nearest_distance = distance \n",
    "        visited_cities.append(nearest_neighbor)\n",
    "        tour_list.append(nearest_neighbor)\n",
    "        current_city = nearest_neighbor  \n",
    "        unvisited.remove(current_city)\n",
    "\n",
    "    return print(\"tour list: \", tour_list)"
   ]
  },
  {
   "cell_type": "code",
   "execution_count": 39,
   "id": "cccc1b98-f1ee-4d95-a3ae-ed559f7530c1",
   "metadata": {},
   "outputs": [
    {
     "data": {
      "text/plain": [
       "22.360679774997898"
      ]
     },
     "execution_count": 39,
     "metadata": {},
     "output_type": "execute_result"
    }
   ],
   "source": [
    "point1 = 50, 90\n",
    "point2 = 60, 70\n",
    "euclidean_distance(point1, point2)"
   ]
  },
  {
   "cell_type": "code",
   "execution_count": 40,
   "id": "603e60f8-7e76-450b-8c5a-26c25f6bba67",
   "metadata": {},
   "outputs": [],
   "source": [
    "group_of_cities = [\n",
    "    (0,3),\n",
    "    (0,7),\n",
    "    (0,8),\n",
    "    (1,14)\n",
    "]\n",
    "\n",
    "starting_city = (0,3)"
   ]
  },
  {
   "cell_type": "code",
   "execution_count": 41,
   "id": "24b9368a",
   "metadata": {},
   "outputs": [
    {
     "name": "stdout",
     "output_type": "stream",
     "text": [
      "tour list:  [(0, 3), (0, 7), (0, 8), (1, 14)]\n"
     ]
    }
   ],
   "source": [
    "nearest_neighbor_algorithm(starting_city, group_of_cities)"
   ]
  },
  {
   "cell_type": "code",
   "execution_count": null,
   "id": "11e23a22",
   "metadata": {},
   "outputs": [],
   "source": []
  }
 ],
 "metadata": {
  "kernelspec": {
   "display_name": "Python 3 (ipykernel)",
   "language": "python",
   "name": "python3"
  },
  "language_info": {
   "codemirror_mode": {
    "name": "ipython",
    "version": 3
   },
   "file_extension": ".py",
   "mimetype": "text/x-python",
   "name": "python",
   "nbconvert_exporter": "python",
   "pygments_lexer": "ipython3",
   "version": "3.10.9"
  }
 },
 "nbformat": 4,
 "nbformat_minor": 5
}
